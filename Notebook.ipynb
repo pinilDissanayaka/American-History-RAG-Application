{
  "nbformat": 4,
  "nbformat_minor": 0,
  "metadata": {
    "colab": {
      "provenance": [],
      "authorship_tag": "ABX9TyOLsL3tAllHSCjACgxJCbC9",
      "include_colab_link": true
    },
    "kernelspec": {
      "name": "python3",
      "display_name": "Python 3"
    },
    "language_info": {
      "name": "python"
    }
  },
  "cells": [
    {
      "cell_type": "markdown",
      "metadata": {
        "id": "view-in-github",
        "colab_type": "text"
      },
      "source": [
        "<a href=\"https://colab.research.google.com/github/pinilDissanayaka/American-History-RAG-Application/blob/main/Notebook.ipynb\" target=\"_parent\"><img src=\"https://colab.research.google.com/assets/colab-badge.svg\" alt=\"Open In Colab\"/></a>"
      ]
    },
    {
      "cell_type": "code",
      "source": [
        "import os\n",
        "from pinecone import Pinecone, ServerlessSpec\n",
        "from google.colab import userdata"
      ],
      "metadata": {
        "id": "qXYnBJnTrT4i"
      },
      "execution_count": 5,
      "outputs": []
    },
    {
      "cell_type": "code",
      "source": [
        "os.environ['PINECORN_API_KEY']=userdata.get('PINECORN_API_KEY')\n",
        "pinecone=Pinecone(api_key=os.environ['PINECORN_API_KEY'])"
      ],
      "metadata": {
        "id": "jIGef-uzrk9B"
      },
      "execution_count": 6,
      "outputs": []
    },
    {
      "cell_type": "code",
      "source": [
        "INDEX_NAME=\"american-history\"\n",
        "DIMENSIONS=384"
      ],
      "metadata": {
        "id": "5BkpL_sIsBXj"
      },
      "execution_count": 8,
      "outputs": []
    },
    {
      "cell_type": "code",
      "source": [
        "if"
      ],
      "metadata": {
        "id": "uadxN3QasKdC"
      },
      "execution_count": null,
      "outputs": []
    }
  ]
}