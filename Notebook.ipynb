{
  "nbformat": 4,
  "nbformat_minor": 0,
  "metadata": {
    "colab": {
      "provenance": [],
      "authorship_tag": "ABX9TyNoLigG9eq+Jxndb1lYDYIf",
      "include_colab_link": true
    },
    "kernelspec": {
      "name": "python3",
      "display_name": "Python 3"
    },
    "language_info": {
      "name": "python"
    }
  },
  "cells": [
    {
      "cell_type": "markdown",
      "metadata": {
        "id": "view-in-github",
        "colab_type": "text"
      },
      "source": [
        "<a href=\"https://colab.research.google.com/github/pinilDissanayaka/American-History-RAG-Application/blob/main/Notebook.ipynb\" target=\"_parent\"><img src=\"https://colab.research.google.com/assets/colab-badge.svg\" alt=\"Open In Colab\"/></a>"
      ]
    },
    {
      "cell_type": "code",
      "source": [
        "import os\n",
        "from pinecone import Pinecone, ServerlessSpec\n",
        "from langchain.document_loaders import PyPDFLoader\n",
        "from langchain_groq import ChatGroq\n",
        "from google.colab import userdata"
      ],
      "metadata": {
        "id": "qXYnBJnTrT4i"
      },
      "execution_count": 30,
      "outputs": []
    },
    {
      "cell_type": "code",
      "source": [
        "os.environ['PINECORN_API_KEY']=userdata.get('PINECORN_API_KEY')\n",
        "os.environ['GROQ_API_KEY']=userdata.get('GROQ_API_KEY')\n",
        "pinecone=Pinecone(api_key=os.environ['PINECORN_API_KEY'])"
      ],
      "metadata": {
        "id": "jIGef-uzrk9B"
      },
      "execution_count": 33,
      "outputs": []
    },
    {
      "cell_type": "code",
      "source": [
        "INDEX_NAME=\"american-history\"\n",
        "DIMENSIONS=384"
      ],
      "metadata": {
        "id": "5BkpL_sIsBXj"
      },
      "execution_count": 26,
      "outputs": []
    },
    {
      "cell_type": "code",
      "source": [
        "if not INDEX_NAME in pinecone.list_indexes().names():\n",
        "  pinecone.create_index(\n",
        "    name=INDEX_NAME,\n",
        "    dimension=DIMENSIONS,\n",
        "    metric=\"euclidean\",\n",
        "    spec=ServerlessSpec(\n",
        "        cloud='aws',\n",
        "        region='us-east-1'\n",
        "    )\n",
        ")\n",
        "else:\n",
        "  print(\"Index already exists\")"
      ],
      "metadata": {
        "colab": {
          "base_uri": "https://localhost:8080/"
        },
        "id": "uadxN3QasKdC",
        "outputId": "161e02d7-d169-4808-c8c7-c45afd5a07cd"
      },
      "execution_count": 27,
      "outputs": [
        {
          "output_type": "stream",
          "name": "stdout",
          "text": [
            "Index already exists\n"
          ]
        }
      ]
    },
    {
      "cell_type": "code",
      "source": [
        "llm = ChatGroq(\n",
        "    temperature=0.8,\n",
        "    model=\"llama3-70b-8192\"\n",
        ")"
      ],
      "metadata": {
        "id": "QYPb1RYB70eT"
      },
      "execution_count": 36,
      "outputs": []
    },
    {
      "cell_type": "code",
      "source": [
        "llm.invoke('hi')"
      ],
      "metadata": {
        "colab": {
          "base_uri": "https://localhost:8080/"
        },
        "id": "46ufO7Y5woE2",
        "outputId": "18829d06-424c-4570-d522-326dd07dbab7"
      },
      "execution_count": 37,
      "outputs": [
        {
          "output_type": "execute_result",
          "data": {
            "text/plain": [
              "AIMessage(content=\"Hi! It's nice to meet you. Is there something I can help you with, or would you like to chat?\", response_metadata={'token_usage': {'completion_tokens': 26, 'prompt_tokens': 11, 'total_tokens': 37, 'completion_time': 0.084435757, 'prompt_time': 0.005351095, 'queue_time': None, 'total_time': 0.089786852}, 'model_name': 'llama3-70b-8192', 'system_fingerprint': 'fp_c1a4bcec29', 'finish_reason': 'stop', 'logprobs': None}, id='run-4ed9589b-40f6-4f76-9a8c-e97851ebd316-0', usage_metadata={'input_tokens': 11, 'output_tokens': 26, 'total_tokens': 37})"
            ]
          },
          "metadata": {},
          "execution_count": 37
        }
      ]
    },
    {
      "cell_type": "code",
      "source": [],
      "metadata": {
        "id": "7Xh-99FIxEPH"
      },
      "execution_count": null,
      "outputs": []
    }
  ]
}