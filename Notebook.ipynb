{
  "nbformat": 4,
  "nbformat_minor": 0,
  "metadata": {
    "colab": {
      "provenance": [],
      "authorship_tag": "ABX9TyOR/dcO2Bk+Z8+RfChfyU92",
      "include_colab_link": true
    },
    "kernelspec": {
      "name": "python3",
      "display_name": "Python 3"
    },
    "language_info": {
      "name": "python"
    }
  },
  "cells": [
    {
      "cell_type": "markdown",
      "metadata": {
        "id": "view-in-github",
        "colab_type": "text"
      },
      "source": [
        "<a href=\"https://colab.research.google.com/github/pinilDissanayaka/American-History-RAG-Application/blob/main/Notebook.ipynb\" target=\"_parent\"><img src=\"https://colab.research.google.com/assets/colab-badge.svg\" alt=\"Open In Colab\"/></a>"
      ]
    },
    {
      "cell_type": "code",
      "source": [
        "import os\n",
        "from pinecone import Pinecone, ServerlessSpec\n",
        "from google.colab import userdata"
      ],
      "metadata": {
        "id": "qXYnBJnTrT4i"
      },
      "execution_count": 5,
      "outputs": []
    },
    {
      "cell_type": "code",
      "source": [
        "os.environ['PINECORN_API_KEY']=userdata.get('PINECORN_API_KEY')\n",
        "pinecone=Pinecone(api_key=os.environ['PINECORN_API_KEY'])"
      ],
      "metadata": {
        "id": "jIGef-uzrk9B"
      },
      "execution_count": 6,
      "outputs": []
    },
    {
      "cell_type": "code",
      "source": [
        "INDEX_NAME=\"american-history\"\n",
        "DIMENSIONS=384"
      ],
      "metadata": {
        "id": "5BkpL_sIsBXj"
      },
      "execution_count": 8,
      "outputs": []
    },
    {
      "cell_type": "code",
      "source": [
        "if not INDEX_NAME in pinecone.list_indexes().names():\n",
        "  pinecone.create_index(\n",
        "    name=INDEX_NAME,\n",
        "    dimension=DIMENSIONS,\n",
        "    metric=\"euclidean\",\n",
        "    spec=ServerlessSpec(\n",
        "        cloud='aws',\n",
        "        region='us-east-1'\n",
        "    )\n",
        ")\n",
        "else:\n",
        "  print(\"Index already exists\")"
      ],
      "metadata": {
        "colab": {
          "base_uri": "https://localhost:8080/"
        },
        "id": "uadxN3QasKdC",
        "outputId": "7323b511-9570-44c6-d88e-6c6e2a4f0125"
      },
      "execution_count": 10,
      "outputs": [
        {
          "output_type": "stream",
          "name": "stdout",
          "text": [
            "Index already exists\n"
          ]
        }
      ]
    },
    {
      "cell_type": "code",
      "source": [],
      "metadata": {
        "id": "nWDzfEKntIeC"
      },
      "execution_count": null,
      "outputs": []
    }
  ]
}