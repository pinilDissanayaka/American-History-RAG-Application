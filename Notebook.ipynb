{
  "nbformat": 4,
  "nbformat_minor": 0,
  "metadata": {
    "colab": {
      "provenance": [],
      "authorship_tag": "ABX9TyMtlbDst0wDh8aKGsHVZ7E0",
      "include_colab_link": true
    },
    "kernelspec": {
      "name": "python3",
      "display_name": "Python 3"
    },
    "language_info": {
      "name": "python"
    }
  },
  "cells": [
    {
      "cell_type": "markdown",
      "metadata": {
        "id": "view-in-github",
        "colab_type": "text"
      },
      "source": [
        "<a href=\"https://colab.research.google.com/github/pinilDissanayaka/American-History-RAG-Application/blob/main/Notebook.ipynb\" target=\"_parent\"><img src=\"https://colab.research.google.com/assets/colab-badge.svg\" alt=\"Open In Colab\"/></a>"
      ]
    },
    {
      "cell_type": "code",
      "source": [
        "import os\n",
        "from pinecone import Pinecone, ServerlessSpec\n",
        "from langchain.document_loaders import PyPDFLoader\n",
        "from langchain.text_splitter import RecursiveCharacterTextSplitter\n",
        "from langchain.vectorstores import Pinecone as PineconeStore\n",
        "from langchain_groq import ChatGroq\n",
        "from google.colab import userdata"
      ],
      "metadata": {
        "id": "qXYnBJnTrT4i"
      },
      "execution_count": 57,
      "outputs": []
    },
    {
      "cell_type": "code",
      "source": [
        "os.environ['PINECORN_API_KEY']=userdata.get('PINECORN_API_KEY')\n",
        "os.environ['GROQ_API_KEY']=userdata.get('GROQ_API_KEY')"
      ],
      "metadata": {
        "id": "jIGef-uzrk9B"
      },
      "execution_count": 33,
      "outputs": []
    },
    {
      "cell_type": "code",
      "source": [
        "INDEX_NAME=\"american-history\"\n",
        "DIMENSIONS=384"
      ],
      "metadata": {
        "id": "5BkpL_sIsBXj"
      },
      "execution_count": 26,
      "outputs": []
    },
    {
      "cell_type": "code",
      "source": [
        "pinecone=Pinecone(api_key=os.environ['PINECORN_API_KEY'])\n",
        "\n",
        "if not INDEX_NAME in pinecone.list_indexes().names():\n",
        "  pinecone.create_index(\n",
        "    name=INDEX_NAME,\n",
        "    dimension=DIMENSIONS,\n",
        "    metric=\"euclidean\",\n",
        "    spec=ServerlessSpec(\n",
        "        cloud='aws',\n",
        "        region='us-east-1'\n",
        "    )\n",
        ")\n",
        "else:\n",
        "  print(\"Index already exists\")"
      ],
      "metadata": {
        "colab": {
          "base_uri": "https://localhost:8080/"
        },
        "id": "uadxN3QasKdC",
        "outputId": "1524d871-d185-47ad-a7dc-860a15373ee3"
      },
      "execution_count": 50,
      "outputs": [
        {
          "output_type": "stream",
          "name": "stdout",
          "text": [
            "Index already exists\n"
          ]
        }
      ]
    },
    {
      "cell_type": "code",
      "source": [
        "pinecone.list_indexes()"
      ],
      "metadata": {
        "colab": {
          "base_uri": "https://localhost:8080/"
        },
        "id": "Em4dmC0-zlCZ",
        "outputId": "9435bc00-6151-41a6-b870-6b3463f3fadd"
      },
      "execution_count": 52,
      "outputs": [
        {
          "output_type": "execute_result",
          "data": {
            "text/plain": [
              "{'indexes': [{'dimension': 384,\n",
              "              'host': 'american-history-4myrn7y.svc.aped-4627-b74a.pinecone.io',\n",
              "              'metric': 'euclidean',\n",
              "              'name': 'american-history',\n",
              "              'spec': {'serverless': {'cloud': 'aws', 'region': 'us-east-1'}},\n",
              "              'status': {'ready': True, 'state': 'Ready'}},\n",
              "             {'dimension': 384,\n",
              "              'host': 'pdf-rag-4myrn7y.svc.aped-4627-b74a.pinecone.io',\n",
              "              'metric': 'cosine',\n",
              "              'name': 'pdf-rag',\n",
              "              'spec': {'serverless': {'cloud': 'aws', 'region': 'us-east-1'}},\n",
              "              'status': {'ready': True, 'state': 'Ready'}}]}"
            ]
          },
          "metadata": {},
          "execution_count": 52
        }
      ]
    },
    {
      "cell_type": "code",
      "source": [
        "llm = ChatGroq(\n",
        "    temperature=0.8,\n",
        "    model=\"llama3-70b-8192\"\n",
        ")"
      ],
      "metadata": {
        "id": "QYPb1RYB70eT"
      },
      "execution_count": 53,
      "outputs": []
    },
    {
      "cell_type": "code",
      "source": [
        "loader=PyPDFLoader(\"/content/history_outline.pdf\")\n",
        "\n",
        "docs=loader.load()"
      ],
      "metadata": {
        "id": "kgSBD69PyHgV"
      },
      "execution_count": 54,
      "outputs": []
    },
    {
      "cell_type": "code",
      "source": [
        "docs[10]"
      ],
      "metadata": {
        "colab": {
          "base_uri": "https://localhost:8080/"
        },
        "id": "7Xh-99FIxEPH",
        "outputId": "b90015f1-8a1c-464f-885d-574804965ea4"
      },
      "execution_count": 55,
      "outputs": [
        {
          "output_type": "execute_result",
          "data": {
            "text/plain": [
              "Document(metadata={'source': '/content/history_outline.pdf', 'page': 10}, page_content='OUTLINE OF U.S. HISTORY9\\ngroups and strong evidence exists \\nthat neighboring tribes maintained \\nextensive and formal relations — \\nboth friendly and hostile  .\\nTHE FIRST EUROPEANS\\nThe first Europeans to arrive in \\nNorth America — at least the first \\nfor whom there is solid evidence \\n— were Norse, traveling west from \\nGreenland, where Erik the Red \\nhad founded a settlement around \\nthe year 985  . In 1001 his son Leif is \\nthought to have explored the north -\\neast coast of what is now Canada and \\nspent at least one winter there  .\\nWhile Norse sagas suggest that \\nViking sailors explored the Atlan -\\ntic coast of North America down \\nas far as the Bahamas, such claims \\nremain unproven  . In 1963, however, \\nthe ruins of some Norse houses dat -\\ning from that era were discovered at \\nL’Anse-aux-Meadows in northern \\nNewfoundland, thus supporting at \\nleast some of the saga claims  .\\nIn 1497, just five years after \\nChristopher Columbus landed in \\nthe Caribbean looking for a west -\\nern route to Asia, a Venetian sail -\\nor named John Cabot arrived in  \\nNewfoundland on a mission for  \\nthe British king  . Although quickly \\nforgotten, Cabot’s journey was later \\nto provide the basis for British claims \\nto North America  . It also opened  \\nthe way to the rich fishing grounds \\noff George’s Banks, to which Eu -\\nropean fishermen, particularly the \\nPortuguese, were soon making reg -\\nular visits  .Columbus never saw the main -\\nland of the future United States, \\nbut the first explorations of it were \\nlaunched from the Spanish posses -\\nsions that he helped establish  . The \\nfirst of these took place in 1513 \\nwhen a group of men under Juan \\nPonce de León landed on the Florida  \\ncoast near the present city of St  .  \\nAugustine  .\\nWith the conquest of Mexico in \\n1522, the Spanish further solidi -\\nfied their position in the Western \\nHemisphere  . The ensuing discov -\\neries added to Europe’s knowledge \\nof what was now named America \\n— after the Italian Amerigo Ves -\\npucci, who wrote a widely popular \\naccount of his voyages to a “New \\nWorld  .” By 1529 reliable maps of the \\nAtlantic coastline from Labrador \\nto Tierra del Fuego had been drawn \\nup, although it would take more than  \\nanother century before hope of dis -\\ncovering a “Northwest Passage” to \\nAsia would be completely abandoned  .\\nAmong the most significant ear -\\nly Spanish explorations was that of \\nHernando De Soto, a veteran con -\\nquistador who had accompanied \\nFrancisco Pizarro in the conquest of \\nPeru  . Leaving Havana in 1539, De \\nSoto’s expedition landed in Florida \\nand ranged through the southeast -\\nern United States as far as the Missis -\\nsippi River in search of riches  .\\nAnother Spaniard, Francis -\\nco Vázquez de Coronado, set out \\nfrom Mexico in 1540 in search of \\nthe mythical Seven Cities of Cibo -\\nla . Coronado’s travels took him to \\nthe Grand Canyon and Kansas, but ')"
            ]
          },
          "metadata": {},
          "execution_count": 55
        }
      ]
    },
    {
      "cell_type": "code",
      "source": [
        "textSplitter=RecursiveCharacterTextSplitter(\n",
        "    chunk_size=10000,\n",
        "    chunk_overlap=1000,\n",
        "    length_function=len\n",
        ")\n",
        "\n",
        "textChunks=textSplitter.split_documents(docs)\n",
        "\n",
        "textChunks[10]"
      ],
      "metadata": {
        "colab": {
          "base_uri": "https://localhost:8080/"
        },
        "id": "SDhE2KOuymZV",
        "outputId": "bb8e70bf-37ac-4430-f20e-21abefb5a8ea"
      },
      "execution_count": 56,
      "outputs": [
        {
          "output_type": "execute_result",
          "data": {
            "text/plain": [
              "Document(metadata={'source': '/content/history_outline.pdf', 'page': 12}, page_content='OUTLINE OF U.S. HISTORY11\\nof a few hundred English colonists \\nto a flood of millions of newcomers  . \\nImpelled by powerful and diverse \\nmotivations, they built a new civi -\\nlization on the northern part of the \\ncontinent  .\\nThe first English immigrants \\nto what is now the United States \\ncrossed the Atlantic long after thriv -\\ning Spanish colonies had been estab -\\nlished in Mexico, the West Indies, \\nand South America  . Like all early \\ntravelers to the New World, they \\ncame in small, overcrowded ships  . \\nDuring their six- to 12-week voy -\\nages, they lived on meager rations  . \\nMany died of disease, ships were \\noften battered by storms, and some \\nwere lost at sea  .\\nMost European emigrants left \\ntheir homelands to escape political \\noppression, to seek the freedom to \\npractice their religion, or to find op -\\nportunities denied them at home  . \\nBetween 1620 and 1635, economic \\ndifficulties swept England  . Many \\npeople could not find work  . Even \\nskilled artisans could earn little \\nmore than a bare living  . Poor crop \\nyields added to the distress  . In ad -\\ndition, the Commercial Revolution \\nhad created a burgeoning textile \\nindustry, which demanded an ever-\\nincreasing supply of wool to keep \\nthe looms running  . Landlords en -\\nclosed farmlands and evicted the \\npeasants in favor of sheep cultiva -\\ntion . Colonial expansion became \\nan outlet for this displaced peasant \\npopulation  .\\nThe colonists’ first glimpse of \\nthe new land was a vista of dense woods  . The settlers might not have \\nsurvived had it not been for the \\nhelp of friendly Indians, who taught \\nthem how to grow native plants —\\npumpkin, squash, beans, and corn  . \\nIn addition, the vast, virgin forests, \\nextending nearly 2,100 kilometers \\nalong the Eastern seaboard, proved \\na rich source of game and firewood  . \\nThey also provided abundant raw \\nmaterials used to build houses, fur -\\nniture, ships, and profitable items \\nfor export  .\\nAlthough the new continent was \\nremarkably endowed by nature, \\ntrade with Europe was vital for ar -\\nticles the settlers could not produce  . \\nThe coast served the immigrants \\nwell . The whole length of shore pro -\\nvided many inlets and harbors  . Only \\ntwo areas — North Carolina and \\nsouthern New Jersey — lacked har -\\nbors for ocean-going vessels  .\\nMajestic rivers — the Kennebec, \\nHudson, Delaware, Susquehanna, \\nPotomac, and numerous others —\\nlinked lands between the coast and \\nthe Appalachian Mountains with \\nthe sea  . Only one river, however, the \\nSt . Lawrence — dominated by the \\nFrench in Canada — offered a water \\npassage to the Great Lakes and the \\nheart of the continent  . Dense forests, \\nthe resistance of some Indian tribes, \\nand the formidable barrier of the \\nAppalachian Mountains discour -\\naged settlement beyond the coastal \\nplain  . Only trappers and traders \\nventured into the wilderness  . For \\nthe first hundred years the colonists \\nbuilt their settlements compactly \\nalong the coast  .')"
            ]
          },
          "metadata": {},
          "execution_count": 56
        }
      ]
    },
    {
      "cell_type": "code",
      "source": [],
      "metadata": {
        "id": "F5zc08jQ3Haa"
      },
      "execution_count": null,
      "outputs": []
    }
  ]
}